{
 "cells": [
  {
   "cell_type": "code",
   "execution_count": 2,
   "id": "2822b901",
   "metadata": {},
   "outputs": [
    {
     "name": "stdout",
     "output_type": "stream",
     "text": [
      "7\n"
     ]
    }
   ],
   "source": [
    "print(10-3)\n"
   ]
  },
  {
   "cell_type": "code",
   "execution_count": 3,
   "id": "a7cb7260",
   "metadata": {},
   "outputs": [
    {
     "name": "stdout",
     "output_type": "stream",
     "text": [
      "8\n",
      "13 5\n"
     ]
    }
   ],
   "source": [
    "print(8)\n",
    "print(13, end=' ')\n",
    "print(5)"
   ]
  },
  {
   "cell_type": "markdown",
   "id": "d02df615",
   "metadata": {},
   "source": [
    "#### Print I love Python\n",
    "#### Print each word of the below-given sentence on a new line.\n",
    "#### I love Python"
   ]
  },
  {
   "cell_type": "code",
   "execution_count": null,
   "id": "1857c9d3",
   "metadata": {},
   "outputs": [],
   "source": [
    "print(\"I love Python\")"
   ]
  },
  {
   "cell_type": "markdown",
   "id": "0cef6b52",
   "metadata": {},
   "source": [
    "#### Print Squares\n",
    "#### Write a program to output the squares (using multiplication) of numbers from 1 to 5 on separate lines.\n",
    "#### [Note: Please print in the same format as given below. There are single spaces between hyphen(-) and digits.]\n",
    "#### Output Format\n",
    "#### 1 - 1\n",
    "#### 2 - 4\n",
    "#### 3 - 9\n",
    "#### 4 - 16\n",
    "#### 5 - 25"
   ]
  },
  {
   "cell_type": "code",
   "execution_count": 5,
   "id": "1d5dde60",
   "metadata": {},
   "outputs": [
    {
     "name": "stdout",
     "output_type": "stream",
     "text": [
      "1-1\n",
      "2-4\n",
      "3-9\n",
      "4-16\n",
      "5-25\n"
     ]
    }
   ],
   "source": [
    "for number in range(1,6):\n",
    "    print(f\"{number}-{number*number}\")"
   ]
  },
  {
   "cell_type": "markdown",
   "id": "591e9ee5",
   "metadata": {},
   "source": [
    "### Print Pattern\n",
    "#### Write a program to output the square of * (stars) of size 4 (check the output below).\n",
    "#### ****\n",
    "#### ****\n",
    "#### ****\n",
    "#### **** "
   ]
  },
  {
   "cell_type": "code",
   "execution_count": 6,
   "id": "97bf3242",
   "metadata": {},
   "outputs": [
    {
     "name": "stdout",
     "output_type": "stream",
     "text": [
      "****\n",
      "****\n",
      "****\n",
      "****\n"
     ]
    }
   ],
   "source": [
    "for i in range(1,5):\n",
    "    print(\"****\")"
   ]
  },
  {
   "cell_type": "code",
   "execution_count": 7,
   "id": "569eb2b2",
   "metadata": {},
   "outputs": [
    {
     "name": "stdout",
     "output_type": "stream",
     "text": [
      "3.5\n"
     ]
    }
   ],
   "source": [
    "print(7.0/2)"
   ]
  },
  {
   "cell_type": "markdown",
   "id": "bc3fecf0",
   "metadata": {},
   "source": [
    "#### Divide Two Variables\n",
    "#### Declare two variables x and y, and assign 20 to x and 6 to y.\n",
    "#### Divide x by y (i.e., perform integer division x // y) and print the result."
   ]
  },
  {
   "cell_type": "code",
   "execution_count": 8,
   "id": "0f961a61",
   "metadata": {},
   "outputs": [
    {
     "name": "stdout",
     "output_type": "stream",
     "text": [
      "3\n"
     ]
    }
   ],
   "source": [
    "x = 20 \n",
    "y = 6 \n",
    "divide = x//y\n",
    "print(divide) "
   ]
  },
  {
   "cell_type": "markdown",
   "id": "8dad7da7",
   "metadata": {},
   "source": [
    "#### Convert Temperature\n",
    "#### Declare a variable \"temperature\" and initialize it with a value of 25.5 (in Celsius) and print it in Celsius and Kelvin (add 273 to the temperature in  Celsius).\n",
    "#### [Note: Print the output in exactly the same format as given below. There is single space around hyphen(-)]\n",
    "#### Output Format\n",
    "#### Celsius - 25.5\n",
    "#### Kelvin - 298.5"
   ]
  },
  {
   "cell_type": "code",
   "execution_count": 9,
   "id": "05fc4582",
   "metadata": {},
   "outputs": [
    {
     "name": "stdout",
     "output_type": "stream",
     "text": [
      "\n",
      "Celsius-25.5\n",
      "Kelvin-298.5\n",
      "\n"
     ]
    }
   ],
   "source": [
    "temperature = 25.5\n",
    "print(f\"\"\"\n",
    "Celsius-{temperature}\n",
    "Kelvin-{273 + temperature}\n",
    "\"\"\")"
   ]
  },
  {
   "cell_type": "markdown",
   "id": "aae5bc8a",
   "metadata": {},
   "source": [
    "#### Area and Perimeter of Square\n",
    "#### Write a program to find the area and perimeter of square whose side length is 4.5. On the first line, print square's area and on the second line, its perimeter.\n",
    "#### Note:\n",
    "#### Area of a Square = side × side\n",
    "#### and, Perimeter = 4 x side"
   ]
  },
  {
   "cell_type": "code",
   "execution_count": 10,
   "id": "03e276b4",
   "metadata": {},
   "outputs": [
    {
     "name": "stdout",
     "output_type": "stream",
     "text": [
      "\n",
      "Area of a square = 20.25\n",
      "Perimeter = 18.0\n",
      "\n"
     ]
    }
   ],
   "source": [
    "Area = 4.5\n",
    "area_square = Area * Area\n",
    "perimeter = 4*Area\n",
    "print(f\"\"\"\n",
    "Area of a square = {area_square}\n",
    "Perimeter = {perimeter}\n",
    "\"\"\")\n"
   ]
  },
  {
   "cell_type": "code",
   "execution_count": 14,
   "id": "8371f44c",
   "metadata": {},
   "outputs": [
    {
     "name": "stdout",
     "output_type": "stream",
     "text": [
      "8\n"
     ]
    }
   ],
   "source": [
    "n =int(input(\"Enter a number: \").strip())\n",
    "print(n)"
   ]
  },
  {
   "cell_type": "code",
   "execution_count": null,
   "id": "d298fb9e",
   "metadata": {},
   "outputs": [],
   "source": []
  }
 ],
 "metadata": {
  "kernelspec": {
   "display_name": "Python 3",
   "language": "python",
   "name": "python3"
  },
  "language_info": {
   "codemirror_mode": {
    "name": "ipython",
    "version": 3
   },
   "file_extension": ".py",
   "mimetype": "text/x-python",
   "name": "python",
   "nbconvert_exporter": "python",
   "pygments_lexer": "ipython3",
   "version": "3.13.3"
  }
 },
 "nbformat": 4,
 "nbformat_minor": 5
}
